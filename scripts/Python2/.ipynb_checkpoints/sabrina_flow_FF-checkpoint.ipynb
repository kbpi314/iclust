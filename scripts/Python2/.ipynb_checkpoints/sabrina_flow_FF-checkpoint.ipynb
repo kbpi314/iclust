{
 "cells": [
  {
   "cell_type": "code",
   "execution_count": 1,
   "metadata": {
    "collapsed": false
   },
   "outputs": [],
   "source": [
    "import numpy as np\n",
    "import pandas as pd\n",
    "import seaborn as sns\n",
    "import scipy\n",
    "import sys\n",
    "import os\n",
    "import minepy\n",
    "import glob\n",
    "\n",
    "import matplotlib\n",
    "import matplotlib.pyplot as plt\n",
    "import scipy.stats\n",
    "\n",
    "from PIL import Image\n",
    "from collections import defaultdict\n",
    "from decimal import Decimal\n",
    "from scipy.cluster import hierarchy\n",
    "from scipy.spatial import distance\n",
    "from scipy.cluster.hierarchy import dendrogram, set_link_color_palette, linkage\n",
    "from matplotlib.colors import rgb2hex, colorConverter\n",
    "from sklearn.metrics import v_measure_score, silhouette_score\n",
    "%matplotlib inline\n",
    "sns.set_style(\"white\")\n",
    "os.chdir(\"/Users/KevinBu/Desktop/clemente_lab/iclust/\")"
   ]
  },
  {
   "cell_type": "code",
   "execution_count": 2,
   "metadata": {
    "collapsed": false
   },
   "outputs": [
    {
     "name": "stdout",
     "output_type": "stream",
     "text": [
      "Done\n"
     ]
    }
   ],
   "source": [
    "def avg_image(imlist, string):\n",
    "    w,h=Image.open(imlist[0]).size\n",
    "    N=len(imlist)\n",
    "\n",
    "    # Create a numpy array of floats to store the average (assume RGB images)\n",
    "    arr=np.zeros((h,w,3),np.float)\n",
    "\n",
    "    # Build up average pixel intensities, casting each image as an array of floats\n",
    "    for im in imlist:\n",
    "        imarr=np.array(Image.open(im),dtype=np.float)\n",
    "        arr=arr+imarr/N\n",
    "\n",
    "    # Round values in array and cast as 8-bit integer\n",
    "    arr=np.array(np.round(arr),dtype=np.uint8)\n",
    "\n",
    "    # Generate, save and preview final image\n",
    "    out=Image.fromarray(arr,mode=\"RGB\")\n",
    "    out.save(path + string + '.jpg')\n",
    "\n",
    "def corr_order(path, R, string):\n",
    "    try:\n",
    "        image_list = [path + 'plots/' + x for x in R['ivl']]\n",
    "    except:\n",
    "        new_R = [str(x[0]) for x in R['ivl']]\n",
    "        image_list = [path + 'plots/' + x for x in new_R]\n",
    "        \n",
    "    images = map(Image.open, image_list)\n",
    "    widths, heights = zip(*(i.size for i in images))\n",
    "\n",
    "    total_width = sum(widths)\n",
    "    max_height = max(heights)\n",
    "\n",
    "    new_im = Image.new('RGB', (total_width, max_height))\n",
    "\n",
    "    x_offset = 0\n",
    "    for im in images:\n",
    "        new_im.paste(im, (x_offset,0))\n",
    "        x_offset += im.size[0]\n",
    "\n",
    "    new_im.save(path + string + '.jpg')\n",
    "    \n",
    "def score_clusters(max_clust, Z, groups, ids, noncond_dist):\n",
    "    # groups is the truth, labels is the predicted\n",
    "    # Z is linkage matrix \n",
    "    # ids is the names of the files corresponding to the order in which Z was created\n",
    "    ss = []\n",
    "    vms = []\n",
    "    n_clust = []\n",
    "    \n",
    "    for k in range(2, max_clust):\n",
    "        cut = hierarchy.fcluster(Z, k, criterion='maxclust')\n",
    "        cluster_dct = dict((ii,[]) for ii in np.unique(cut))\n",
    "        for iimg,iclus in enumerate(cut):\n",
    "            cluster_dct[iclus].append(ids[iimg])\n",
    "\n",
    "        # integer numbering of clusters\n",
    "        clusters = list(cluster_dct.values())\n",
    "        observed = dict()\n",
    "        # assigning item to cluster number\n",
    "        for i in range(len(clusters)):\n",
    "            for item in clusters[i]:\n",
    "                observed[item] = i\n",
    "\n",
    "        obs_labels = []\n",
    "        for item in ids:\n",
    "            obs_labels.append(observed[item])\n",
    "\n",
    "        if len(np.unique(obs_labels)) > 1:\n",
    "            ss.append(silhouette_score(noncond_dist, obs_labels, metric='euclidean'))\n",
    "            vms.append(v_measure_score(groups, obs_labels))\n",
    "            n_clust.append(len(clusters))\n",
    "        else:\n",
    "            ss.append(-1)\n",
    "            vms.append(-1)\n",
    "            n_clust.append(1)\n",
    "    \n",
    "    corr_score_df = pd.DataFrame({'ss': ss, 'vms': vms, 'n_clust': n_clust})\n",
    "\n",
    "    best_ss_df = corr_score_df.loc[corr_score_df['ss'] == max(corr_score_df['ss'])]\n",
    "    best_vms_df = corr_score_df.loc[corr_score_df['vms'] == max(corr_score_df['vms'])]        \n",
    "    return ss, vms, best_ss_df, best_vms_df, n_clust, corr_score_df\n",
    "\n",
    "def print_avg_order(Z, k, ids, path, string, R):\n",
    "    cut = hierarchy.fcluster(Z, 2, criterion='maxclust')\n",
    "    cluster_dct = dict((ii,[]) for ii in np.unique(cut))\n",
    "    for iimg,iclus in enumerate(cut):\n",
    "        cluster_dct[iclus].append(ids[iimg])\n",
    "\n",
    "    clusters = list(cluster_dct.values())\n",
    "    '''try:\n",
    "        image_list = [path + 'plots/' + x for x in R['ivl']]\n",
    "    except:\n",
    "        new_R = [str(x[0]) for x in R['ivl']]\n",
    "        image_list = [path + 'plots/' + x for x in new_R]'''\n",
    "    i = 0\n",
    "    for cluster in clusters:\n",
    "        image_list = [path + 'plots/' + x for x in cluster]\n",
    "        i += 1\n",
    "        avg_image(image_list, 'avg_img_' + str(k) + '_' + str(i))\n",
    "\n",
    "    corr_order(path, R, string)\n",
    "    \n",
    "print 'Done'"
   ]
  },
  {
   "cell_type": "code",
   "execution_count": 3,
   "metadata": {
    "collapsed": false
   },
   "outputs": [],
   "source": [
    "dirs = glob.glob('./data/sabrina_flow/Nasal_FCM/*')\n",
    "method_to_label = {\n",
    "    'Wash': 'W',\n",
    "    'SwabP': 'P',\n",
    "    'SwabA': 'A',\n",
    "    'Brush': 'B'\n",
    "}\n",
    "\n",
    "method_to_files = {}\n",
    "method_to_ids = {}\n",
    "test = set()\n",
    "for d in dirs:\n",
    "    method = os.path.basename(d)\n",
    "    full_paths = glob.glob('data/sabrina_flow/Nasal_FCM/' + method + '/*')\n",
    "    method_to_files[method] = full_paths\n",
    "    method_to_ids[method] = [os.path.basename(x) for x in full_paths]\n",
    "             \n",
    "\n"
   ]
  },
  {
   "cell_type": "code",
   "execution_count": 4,
   "metadata": {
    "collapsed": false
   },
   "outputs": [
    {
     "data": {
      "text/html": [
       "<div>\n",
       "<style scoped>\n",
       "    .dataframe tbody tr th:only-of-type {\n",
       "        vertical-align: middle;\n",
       "    }\n",
       "\n",
       "    .dataframe tbody tr th {\n",
       "        vertical-align: top;\n",
       "    }\n",
       "\n",
       "    .dataframe thead th {\n",
       "        text-align: right;\n",
       "    }\n",
       "</style>\n",
       "<table border=\"1\" class=\"dataframe\">\n",
       "  <thead>\n",
       "    <tr style=\"text-align: right;\">\n",
       "      <th></th>\n",
       "      <th>FSC-A</th>\n",
       "      <th>FSC-H</th>\n",
       "      <th>FSC-W</th>\n",
       "      <th>SSC-A</th>\n",
       "      <th>SSC-H</th>\n",
       "      <th>SSC-W</th>\n",
       "      <th>Blue1-A</th>\n",
       "      <th>Blue4-A</th>\n",
       "      <th>Red1-A</th>\n",
       "      <th>Time</th>\n",
       "    </tr>\n",
       "  </thead>\n",
       "  <tbody>\n",
       "    <tr>\n",
       "      <th>0</th>\n",
       "      <td>2129.05005</td>\n",
       "      <td>1674.0</td>\n",
       "      <td>83350.9063</td>\n",
       "      <td>-11.25</td>\n",
       "      <td>19.0</td>\n",
       "      <td>0.0000</td>\n",
       "      <td>597.50</td>\n",
       "      <td>38.75</td>\n",
       "      <td>-68.50</td>\n",
       "      <td>0.562</td>\n",
       "    </tr>\n",
       "    <tr>\n",
       "      <th>1</th>\n",
       "      <td>19767.38090</td>\n",
       "      <td>5529.0</td>\n",
       "      <td>234305.4840</td>\n",
       "      <td>151.25</td>\n",
       "      <td>76.0</td>\n",
       "      <td>130425.2580</td>\n",
       "      <td>31867.50</td>\n",
       "      <td>2756.25</td>\n",
       "      <td>-146.59</td>\n",
       "      <td>0.564</td>\n",
       "    </tr>\n",
       "    <tr>\n",
       "      <th>2</th>\n",
       "      <td>-1882.57010</td>\n",
       "      <td>0.0</td>\n",
       "      <td>262143.0000</td>\n",
       "      <td>58.75</td>\n",
       "      <td>47.0</td>\n",
       "      <td>81920.0000</td>\n",
       "      <td>338.75</td>\n",
       "      <td>123.75</td>\n",
       "      <td>-109.60</td>\n",
       "      <td>0.566</td>\n",
       "    </tr>\n",
       "    <tr>\n",
       "      <th>3</th>\n",
       "      <td>26557.43160</td>\n",
       "      <td>7906.0</td>\n",
       "      <td>220145.2030</td>\n",
       "      <td>32.50</td>\n",
       "      <td>36.0</td>\n",
       "      <td>59164.4453</td>\n",
       "      <td>577.50</td>\n",
       "      <td>221.25</td>\n",
       "      <td>-101.38</td>\n",
       "      <td>0.567</td>\n",
       "    </tr>\n",
       "    <tr>\n",
       "      <th>4</th>\n",
       "      <td>14172.60060</td>\n",
       "      <td>4843.0</td>\n",
       "      <td>191785.1560</td>\n",
       "      <td>-31.25</td>\n",
       "      <td>13.0</td>\n",
       "      <td>0.0000</td>\n",
       "      <td>5002.50</td>\n",
       "      <td>496.25</td>\n",
       "      <td>-31.51</td>\n",
       "      <td>0.569</td>\n",
       "    </tr>\n",
       "  </tbody>\n",
       "</table>\n",
       "</div>"
      ],
      "text/plain": [
       "         FSC-A   FSC-H        FSC-W   SSC-A  SSC-H        SSC-W   Blue1-A  \\\n",
       "0   2129.05005  1674.0   83350.9063  -11.25   19.0       0.0000    597.50   \n",
       "1  19767.38090  5529.0  234305.4840  151.25   76.0  130425.2580  31867.50   \n",
       "2  -1882.57010     0.0  262143.0000   58.75   47.0   81920.0000    338.75   \n",
       "3  26557.43160  7906.0  220145.2030   32.50   36.0   59164.4453    577.50   \n",
       "4  14172.60060  4843.0  191785.1560  -31.25   13.0       0.0000   5002.50   \n",
       "\n",
       "   Blue4-A  Red1-A   Time  \n",
       "0    38.75  -68.50  0.562  \n",
       "1  2756.25 -146.59  0.564  \n",
       "2   123.75 -109.60  0.566  \n",
       "3   221.25 -101.38  0.567  \n",
       "4   496.25  -31.51  0.569  "
      ]
     },
     "execution_count": 4,
     "metadata": {},
     "output_type": "execute_result"
    }
   ],
   "source": [
    "df = pd.read_csv('data/sabrina_flow/Nasal_FCM/Brush/35B.csv.csv', sep = ',')\n",
    "df.head()"
   ]
  },
  {
   "cell_type": "code",
   "execution_count": 5,
   "metadata": {
    "collapsed": false
   },
   "outputs": [
    {
     "name": "stdout",
     "output_type": "stream",
     "text": [
      "['49P.jpeg', '31P.jpeg', '34W.jpeg', '50P.jpeg', '34B.jpeg', '52P.jpeg', '36B.jpeg', '36W.jpeg', '42A.jpeg', '53B.jpeg', '32W.jpeg', '37P.jpeg', '46A.jpeg', '53W.jpeg', '32B.jpeg', '30B.jpeg', '54P.jpeg', '29W.jpeg', '48B.jpeg', '29B.jpeg', '44A.jpeg', '48W.jpeg', '30W.jpeg', '35P.jpeg', '37B.jpeg', '53P.jpeg', '43A.jpeg', '37W.jpeg', '32P.jpeg', '54B.jpeg', '35W.jpeg', '30P.jpeg', '48P.jpeg', '41A.jpeg', '29P.jpeg', '54W.jpeg', '35B.jpeg', '49B.jpeg', '31B.jpeg', '50W.jpeg', '34P.jpeg', '31W.jpeg', '50B.jpeg', '45A.jpeg', '49W.jpeg', '36P.jpeg', '52B.jpeg', '52W.jpeg', '52A.jpeg', '42P.jpeg', '45W.jpeg', '49A.jpeg', '31A.jpeg', '50A.jpeg', '45B.jpeg', '54A.jpeg', '41B.jpeg', '44P.jpeg', '41W.jpeg', '35A.jpeg', '37A.jpeg', '46P.jpeg', '43W.jpeg', '43B.jpeg', '30A.jpeg', '41P.jpeg', '44W.jpeg', '48A.jpeg', '29A.jpeg', '44B.jpeg', '53A.jpeg', '46B.jpeg', '43P.jpeg', '46W.jpeg', '32A.jpeg', '42W.jpeg', '36A.jpeg', '42B.jpeg', '34A.jpeg', '45P.jpeg']\n",
      "['49P', '31P', '34W', '50P', '34B', '52P', '36B', '36W', '42A', '53B', '32W', '37P', '46A', '53W', '32B', '30B', '54P', '29W', '48B', '29B', '44A', '48W', '30W', '35P', '37B', '53P', '43A', '37W', '32P', '54B', '35W', '30P', '48P', '41A', '29P', '54W', '35B', '49B', '31B', '50W', '34P', '31W', '50B', '45A', '49W', '36P', '52B', '52W', '52A', '42P', '45W', '49A', '31A', '50A', '45B', '54A', '41B', '44P', '41W', '35A', '37A', '46P', '43W', '43B', '30A', '41P', '44W', '48A', '29A', '44B', '53A', '46B', '43P', '46W', '32A', '42W', '36A', '42B', '34A', '45P']\n"
     ]
    }
   ],
   "source": [
    "# get ids and corrs of plots\n",
    "# \n",
    "path = 'data/sabrina_flow/FF/'\n",
    "# files = [os.path.basename(x) for x in glob.glob(path + '/*')]\n",
    "files = glob.glob(path+'plots/*.jpeg')\n",
    "\n",
    "pcs = []\n",
    "ids = []\n",
    "\n",
    "for f in files:\n",
    "    ids.append(os.path.basename(f))\n",
    "    pcs.append(os.path.basename(f).split('.jpeg')[0])\n",
    "\n",
    "print ids\n",
    "print pcs\n"
   ]
  },
  {
   "cell_type": "code",
   "execution_count": 6,
   "metadata": {
    "collapsed": false
   },
   "outputs": [
    {
     "name": "stdout",
     "output_type": "stream",
     "text": [
      "best ss n_clust: 2 with score 0.31662233488300273\n",
      "[0.31662233488300273, 0.18997012398297913, 0.20553706355209073, 0.18167717016908835, 0.1403586964674776, 0.09039655416270762, 0.10977192216960371, 0.0951575200715777, 0.07925673494281346, 0.11553016850710038, 0.09802151211261242, 0.07163170954180718, 0.054557619373605246, 0.05073583883961204, 0.05059749146002981, 0.042172267087648416, 0.062411929936214826, 0.057252814378284944]\n",
      "best vms n_clust: 19 with score 0.2800655728725396\n",
      "[0.024173615945988308, 0.0884428694113669, 0.20936602349652095, 0.23368688146966735, 0.23134436662432697, 0.23705495948537408, 0.21906989177454791, 0.22444859346691967, 0.2256645880828557, 0.22386653224970518, 0.2473256698606896, 0.25648167708424446, 0.259466399953661, 0.2587468386748806, 0.2594208500671973, 0.26804547889308894, 0.276589593220824, 0.2800655728725396]\n"
     ]
    },
    {
     "data": {
      "image/png": "[encoded data removed]",
      "text/plain": [
       "<matplotlib.figure.Figure at 0x103716750>"
      ]
     },
     "metadata": {},
     "output_type": "display_data"
    },
    {
     "name": "stderr",
     "output_type": "stream",
     "text": [
      "//anaconda/lib/python2.7/site-packages/matplotlib/collections.py:590: FutureWarning: elementwise comparison failed; returning scalar instead, but in the future will perform elementwise comparison\n",
      "  if self._edgecolors == str('face'):\n"
     ]
    },
    {
     "data": {
      "image/png": "[encoded data removed]",
      "text/plain": [
       "<matplotlib.figure.Figure at 0x103716950>"
      ]
     },
     "metadata": {},
     "output_type": "display_data"
    }
   ],
   "source": [
    "# now you run imagecluster\n",
    "\n",
    "# source activate yourenv\n",
    "# export PYTHONPATH=$PYTHONPATH:/Users/KevinBu/tools/sandbox/lib/python3.5/site-packages/\n",
    "# cd /Users/KevinBu/Desktop/clemente_lab/Software/imagecluster\n",
    "# Python3 setup.py install  --prefix=/Users/KevinBu/tools/sandbox/\n",
    "# cd /Users/KevinBu/Desktop/clemente_lab/iclust/data\n",
    "# python3\n",
    "# from imagecluster import main\n",
    "# main.main('sabrina_flow/FF/plots/', 'sabrina_flow/FF/', sim=2)\n",
    "# sim here doesn't matter, we are only interested in the distance feature matrix\n",
    "\n",
    "# sim is inappropriately named as it is really k now\n",
    "# once you know how many clusters you want, you add this to get the clusters\n",
    "# k = 2\n",
    "# main.main('hdac_kpc_plots/small/plots/', 'hdac_kpc_plots/small/', sim=k)\n",
    "\n",
    "\n",
    "path = 'data/sabrina_flow/FF/'\n",
    "\n",
    "dfps_df = pd.read_csv(path + 'dfps.txt', sep = '\\t', header = None).drop(0) # first row is junk\n",
    "\n",
    "cond = dfps_df.iloc[:,1:].values.flatten()\n",
    "sq = distance.squareform(cond)\n",
    "noncond_dist = distance.squareform(cond)\n",
    "\n",
    "# get assigned labels\n",
    "cluster_df = pd.read_csv(path + 'cluster_array.txt', sep = '\\t', header = None)\n",
    "# cluster_df['group'] = [x.split('/')[2].split('_')[0] for x in cluster_df.iloc[:,0].values]\n",
    "# assigned_labels = cluster_df['group']\n",
    "\n",
    "# get linkage matrix\n",
    "df = pd.read_csv(path + 'Z.txt', sep = '\\t')\n",
    "Z = df.values[:,1:]\n",
    "\n",
    "# get name ordering as processed by software\n",
    "names = pd.read_csv(path + 'names.txt', sep = '\\t')\n",
    "names = [os.path.basename(str(x[0])) for x in list(names.values[:,1:])]\n",
    "# grouping by letter i.e. by method of prep\n",
    "true_labels = [x.split('.')[0][-1] for x in names]\n",
    "\n",
    "fig, ax = plt.subplots()\n",
    "plt.figure(figsize=(20,10)) \n",
    "plt.title('Hierarchical Clustering Dendrogram (imageclust)')\n",
    "plt.xlabel('plot name')\n",
    "plt.ylabel('distance (imageclust)') # or corr\n",
    "R = dendrogram(Z, labels = names, leaf_rotation = 90)\n",
    "# R['ivl'] = [list(x) for x in R['ivl']]\n",
    "max_clust = 20\n",
    "\n",
    "ss, vms, best_ss_df, best_vms_df, n_clust, corr_score_df = score_clusters(max_clust, Z, true_labels, ids, noncond_dist)\n",
    "                                                                          #groups[str(sigma)], ids[str(sigma)])\n",
    "# print 'sigma = ' + str(sigma)\n",
    "print 'best ss n_clust: ' + str(best_ss_df['n_clust'].values[0]) + ' with score ' +  str(best_ss_df['ss'].values[0])\n",
    "print ss\n",
    "print 'best vms n_clust: ' + str(best_vms_df['n_clust'].values[0]) + ' with score ' +  str(best_vms_df['vms'].values[0])\n",
    "print vms\n",
    "k = best_vms_df['n_clust'].values[0] # toggle here\n",
    "print_avg_order(Z, k, ids, path, 'imgclust_order', R)\n"
   ]
  },
  {
   "cell_type": "code",
   "execution_count": 50,
   "metadata": {
    "collapsed": false
   },
   "outputs": [
    {
     "name": "stdout",
     "output_type": "stream",
     "text": [
      "['49P.jpeg', '31P.jpeg', '34W.jpeg', '50P.jpeg', '34B.jpeg', '52P.jpeg', '36B.jpeg', '36W.jpeg', '42A.jpeg', '53B.jpeg', '32W.jpeg', '37P.jpeg', '46A.jpeg', '53W.jpeg', '32B.jpeg', '30B.jpeg', '54P.jpeg', '29W.jpeg', '48B.jpeg', '29B.jpeg', '44A.jpeg', '48W.jpeg', '30W.jpeg', '35P.jpeg', '37B.jpeg', '53P.jpeg', '43A.jpeg', '37W.jpeg', '32P.jpeg', '54B.jpeg', '35W.jpeg', '30P.jpeg', '48P.jpeg', '41A.jpeg', '29P.jpeg', '54W.jpeg', '35B.jpeg', '49B.jpeg', '31B.jpeg', '50W.jpeg', '34P.jpeg', '31W.jpeg', '50B.jpeg', '45A.jpeg', '49W.jpeg', '36P.jpeg', '52B.jpeg', '52W.jpeg', '52A.jpeg', '42P.jpeg', '45W.jpeg', '49A.jpeg', '31A.jpeg', '50A.jpeg', '45B.jpeg', '54A.jpeg', '41B.jpeg', '44P.jpeg', '41W.jpeg', '35A.jpeg', '37A.jpeg', '46P.jpeg', '43W.jpeg', '43B.jpeg', '30A.jpeg', '41P.jpeg', '44W.jpeg', '48A.jpeg', '29A.jpeg', '44B.jpeg', '53A.jpeg', '46B.jpeg', '43P.jpeg', '46W.jpeg', '32A.jpeg', '42W.jpeg', '36A.jpeg', '42B.jpeg', '34A.jpeg', '45P.jpeg']\n"
     ]
    }
   ],
   "source": [
    "print ids"
   ]
  },
  {
   "cell_type": "code",
   "execution_count": 51,
   "metadata": {
    "collapsed": false
   },
   "outputs": [
    {
     "name": "stdout",
     "output_type": "stream",
     "text": [
      "['A', 'A', 'P', 'W', 'W', 'A', 'B', 'P', 'B', 'B', 'B', 'B', 'A', 'A', 'B', 'A', 'P', 'W', 'P', 'A', 'W', 'W', 'P', 'P', 'B', 'B', 'B', 'P', 'P', 'W', 'W', 'A', 'W', 'B', 'B', 'B', 'A', 'P', 'B', 'A', 'A', 'A', 'B', 'P', 'W', 'A', 'W', 'B', 'W', 'W', 'W', 'B', 'B', 'B', 'W', 'P', 'P', 'B', 'A', 'P', 'P', 'B', 'W', 'W', 'A', 'A', 'W', 'A', 'P', 'P', 'A', 'W', 'A', 'P', 'A', 'W', 'P', 'W', 'P', 'P']\n"
     ]
    }
   ],
   "source": [
    "print true_labels"
   ]
  },
  {
   "cell_type": "code",
   "execution_count": 7,
   "metadata": {
    "collapsed": false
   },
   "outputs": [
    {
     "name": "stdout",
     "output_type": "stream",
     "text": [
      "['49P.jpeg', '31P.jpeg', '34W.jpeg', '50P.jpeg', '34B.jpeg', '52P.jpeg', '36B.jpeg', '36W.jpeg', '42A.jpeg', '53B.jpeg', '32W.jpeg', '37P.jpeg', '46A.jpeg', '53W.jpeg', '32B.jpeg', '30B.jpeg', '54P.jpeg', '29W.jpeg', '48B.jpeg', '29B.jpeg', '44A.jpeg', '48W.jpeg', '30W.jpeg', '35P.jpeg', '37B.jpeg', '53P.jpeg', '43A.jpeg', '37W.jpeg', '32P.jpeg', '54B.jpeg', '35W.jpeg', '30P.jpeg', '48P.jpeg', '41A.jpeg', '29P.jpeg', '54W.jpeg', '35B.jpeg', '49B.jpeg', '31B.jpeg', '50W.jpeg', '34P.jpeg', '31W.jpeg', '50B.jpeg', '45A.jpeg', '49W.jpeg', '36P.jpeg', '52B.jpeg', '52W.jpeg', '52A.jpeg', '42P.jpeg', '45W.jpeg', '49A.jpeg', '31A.jpeg', '50A.jpeg', '45B.jpeg', '54A.jpeg', '41B.jpeg', '44P.jpeg', '41W.jpeg', '35A.jpeg', '37A.jpeg', '46P.jpeg', '43W.jpeg', '43B.jpeg', '30A.jpeg', '41P.jpeg', '44W.jpeg', '48A.jpeg', '29A.jpeg', '44B.jpeg', '53A.jpeg', '46B.jpeg', '43P.jpeg', '46W.jpeg', '32A.jpeg', '42W.jpeg', '36A.jpeg', '42B.jpeg', '34A.jpeg', '45P.jpeg']\n",
      "['49', '31', '34', '50', '34', '52', '36', '36', '42', '53', '32', '37', '46', '53', '32', '30', '54', '29', '48', '29', '44', '48', '30', '35', '37', '53', '43', '37', '32', '54', '35', '30', '48', '41', '29', '54', '35', '49', '31', '50', '34', '31', '50', '45', '49', '36', '52', '52', '52', '42', '45', '49', '31', '50', '45', '54', '41', '44', '41', '35', '37', '46', '43', '43', '30', '41', '44', '48', '29', '44', '53', '46', '43', '46', '32', '42', '36', '42', '34', '45']\n"
     ]
    }
   ],
   "source": [
    "# get ids and corrs of plots\n",
    "# \n",
    "path = 'data/sabrina_flow/FF/'\n",
    "# files = [os.path.basename(x) for x in glob.glob(path + '/*')]\n",
    "files = glob.glob(path+'plots/*.jpeg')\n",
    "\n",
    "pcs = []\n",
    "ids = []\n",
    "\n",
    "for f in files:\n",
    "    ids.append(os.path.basename(f))\n",
    "    pcs.append(os.path.basename(f).split('.jpeg')[0][0:2])\n",
    "\n",
    "print ids\n",
    "print pcs\n"
   ]
  },
  {
   "cell_type": "code",
   "execution_count": 10,
   "metadata": {
    "collapsed": false
   },
   "outputs": [
    {
     "name": "stdout",
     "output_type": "stream",
     "text": [
      "best ss n_clust: 2 with score 0.31662233488300273\n",
      "[0.31662233488300273, 0.18997012398297913, 0.20553706355209073, 0.18167717016908835, 0.1403586964674776, 0.09039655416270762, 0.10977192216960371, 0.0951575200715777, 0.07925673494281346, 0.11553016850710038, 0.09802151211261242, 0.07163170954180718, 0.054557619373605246, 0.05073583883961204, 0.05059749146002981, 0.042172267087648416, 0.062411929936214826, 0.057252814378284944]\n",
      "best vms n_clust: 19 with score 0.48314936796628477\n",
      "[0.02551813716081822, 0.07085789311256312, 0.12209445412490869, 0.17851333712102926, 0.18940829935621203, 0.20800747676847373, 0.2736814275496695, 0.3022459538822475, 0.331020515623021, 0.3880447429218803, 0.4022948909671955, 0.4124562404024766, 0.4184946589404393, 0.4317151287879683, 0.4465210584797428, 0.4517925910711208, 0.4763095943886205, 0.48314936796628477]\n"
     ]
    },
    {
     "data": {
      "image/png": "[encoded data removed]",
      "text/plain": [
       "<matplotlib.figure.Figure at 0x1a17e74cd0>"
      ]
     },
     "metadata": {},
     "output_type": "display_data"
    },
    {
     "data": {
      "image/png": "[encoded data removed]",
      "text/plain": [
       "<matplotlib.figure.Figure at 0x103716990>"
      ]
     },
     "metadata": {},
     "output_type": "display_data"
    }
   ],
   "source": [
    "# now you run imagecluster\n",
    "\n",
    "# source activate yourenv\n",
    "# export PYTHONPATH=$PYTHONPATH:/Users/KevinBu/tools/sandbox/lib/python3.5/site-packages/\n",
    "# cd /Users/KevinBu/Desktop/clemente_lab/Software/imagecluster\n",
    "# Python3 setup.py install  --prefix=/Users/KevinBu/tools/sandbox/\n",
    "# cd /Users/KevinBu/Desktop/clemente_lab/iclust/data\n",
    "# python3\n",
    "# from imagecluster import main\n",
    "# main.main('sabrina_flow/SF/plots/', 'sabrina_flow/SF/', sim=2)\n",
    "# sim here doesn't matter, we are only interested in the distance feature matrix\n",
    "\n",
    "# sim is inappropriately named as it is really k now\n",
    "# once you know how many clusters you want, you add this to get the clusters\n",
    "# k = 2\n",
    "# main.main('hdac_kpc_plots/small/plots/', 'hdac_kpc_plots/small/', sim=k)\n",
    "\n",
    "\n",
    "path = 'data/sabrina_flow/FF/'\n",
    "\n",
    "dfps_df = pd.read_csv(path + 'dfps.txt', sep = '\\t', header = None).drop(0) # first row is junk\n",
    "\n",
    "cond = dfps_df.iloc[:,1:].values.flatten()\n",
    "sq = distance.squareform(cond)\n",
    "noncond_dist = distance.squareform(cond)\n",
    "\n",
    "# get assigned labels\n",
    "cluster_df = pd.read_csv(path + 'cluster_array.txt', sep = '\\t', header = None)\n",
    "# cluster_df['group'] = [x.split('/')[2].split('_')[0] for x in cluster_df.iloc[:,0].values]\n",
    "# assigned_labels = cluster_df['group']\n",
    "\n",
    "# get linkage matrix\n",
    "df = pd.read_csv(path + 'Z.txt', sep = '\\t')\n",
    "Z = df.values[:,1:]\n",
    "\n",
    "# get name ordering as processed by software\n",
    "names = pd.read_csv(path + 'names.txt', sep = '\\t')\n",
    "names = [os.path.basename(str(x[0])) for x in list(names.values[:,1:])]\n",
    "# grouping by letter i.e. by method of prep\n",
    "true_labels = [x.split('.')[0][0:2] for x in names]\n",
    "\n",
    "fig, ax = plt.subplots()\n",
    "plt.figure(figsize=(20,10)) \n",
    "plt.title('Hierarchical Clustering Dendrogram (imageclust)')\n",
    "plt.xlabel('plot name')\n",
    "plt.ylabel('distance (imageclust)') # or corr\n",
    "R = dendrogram(Z, labels = names, leaf_rotation = 90)\n",
    "# R['ivl'] = [list(x) for x in R['ivl']]\n",
    "max_clust = 20\n",
    "\n",
    "ss, vms, best_ss_df, best_vms_df, n_clust, corr_score_df = score_clusters(max_clust, Z, true_labels, ids, noncond_dist)\n",
    "                                                                          #groups[str(sigma)], ids[str(sigma)])\n",
    "# print 'sigma = ' + str(sigma)\n",
    "print 'best ss n_clust: ' + str(best_ss_df['n_clust'].values[0]) + ' with score ' +  str(best_ss_df['ss'].values[0])\n",
    "print ss\n",
    "print 'best vms n_clust: ' + str(best_vms_df['n_clust'].values[0]) + ' with score ' +  str(best_vms_df['vms'].values[0])\n",
    "print vms\n",
    "k = best_vms_df['n_clust'].values[0] # toggle here\n",
    "print_avg_order(Z, k, ids, path, 'imgclust_order', R)\n"
   ]
  },
  {
   "cell_type": "code",
   "execution_count": null,
   "metadata": {
    "collapsed": true
   },
   "outputs": [],
   "source": []
  }
 ],
 "metadata": {
  "kernelspec": {
   "display_name": "Python 2",
   "language": "python",
   "name": "python2"
  },
  "language_info": {
   "codemirror_mode": {
    "name": "ipython",
    "version": 2
   },
   "file_extension": ".py",
   "mimetype": "text/x-python",
   "name": "python",
   "nbconvert_exporter": "python",
   "pygments_lexer": "ipython2",
   "version": "2.7.6"
  }
 },
 "nbformat": 4,
 "nbformat_minor": 0
}
