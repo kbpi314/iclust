{
 "cells": [
  {
   "cell_type": "code",
   "execution_count": 2,
   "metadata": {
    "collapsed": false
   },
   "outputs": [],
   "source": [
    "import numpy as np\n",
    "import pandas as pd\n",
    "import seaborn as sns\n",
    "import scipy\n",
    "import sys\n",
    "import os\n",
    "import minepy\n",
    "import glob\n",
    "\n",
    "import matplotlib\n",
    "import matplotlib.pyplot as plt\n",
    "import scipy.stats\n",
    "\n",
    "from PIL import Image\n",
    "from collections import defaultdict\n",
    "from decimal import Decimal\n",
    "from scipy.cluster import hierarchy\n",
    "from scipy.spatial import distance\n",
    "from scipy.cluster.hierarchy import dendrogram, set_link_color_palette, linkage\n",
    "from matplotlib.colors import rgb2hex, colorConverter\n",
    "from sklearn.metrics import v_measure_score, silhouette_score\n",
    "%matplotlib inline\n",
    "sns.set_style(\"white\")\n",
    "os.chdir(\"/Users/KevinBu/Desktop/clemente_lab/iclust/\")"
   ]
  },
  {
   "cell_type": "code",
   "execution_count": 3,
   "metadata": {
    "collapsed": false
   },
   "outputs": [
    {
     "name": "stdout",
     "output_type": "stream",
     "text": [
      "Done\n"
     ]
    }
   ],
   "source": [
    "def avg_image(imlist, string):\n",
    "    w,h=Image.open(imlist[0]).size\n",
    "    N=len(imlist)\n",
    "\n",
    "    # Create a numpy array of floats to store the average (assume RGB images)\n",
    "    arr=np.zeros((h,w,3),np.float)\n",
    "\n",
    "    # Build up average pixel intensities, casting each image as an array of floats\n",
    "    for im in imlist:\n",
    "        imarr=np.array(Image.open(im),dtype=np.float)\n",
    "        arr=arr+imarr/N\n",
    "\n",
    "    # Round values in array and cast as 8-bit integer\n",
    "    arr=np.array(np.round(arr),dtype=np.uint8)\n",
    "\n",
    "    # Generate, save and preview final image\n",
    "    out=Image.fromarray(arr,mode=\"RGB\")\n",
    "    out.save(path + string + '.jpg')\n",
    "\n",
    "def corr_order(path, R, string):\n",
    "    try:\n",
    "        image_list = [path + 'plots/' + x for x in R['ivl']]\n",
    "    except:\n",
    "        new_R = [str(x[0]) for x in R['ivl']]\n",
    "        image_list = [path + 'plots/' + x for x in new_R]\n",
    "        \n",
    "    images = map(Image.open, image_list)\n",
    "    widths, heights = zip(*(i.size for i in images))\n",
    "\n",
    "    total_width = sum(widths)\n",
    "    max_height = max(heights)\n",
    "\n",
    "    new_im = Image.new('RGB', (total_width, max_height))\n",
    "\n",
    "    x_offset = 0\n",
    "    for im in images:\n",
    "        new_im.paste(im, (x_offset,0))\n",
    "        x_offset += im.size[0]\n",
    "\n",
    "    new_im.save(path + string + '.jpg')\n",
    "    \n",
    "def score_clusters(max_clust, Z, groups, ids, noncond_dist):\n",
    "    # groups is the truth, labels is the predicted\n",
    "    # Z is linkage matrix \n",
    "    # ids is the names of the files corresponding to the order in which Z was created\n",
    "    ss = []\n",
    "    vms = []\n",
    "    n_clust = []\n",
    "    \n",
    "    for k in range(2, max_clust):\n",
    "        cut = hierarchy.fcluster(Z, k, criterion='maxclust')\n",
    "        cluster_dct = dict((ii,[]) for ii in np.unique(cut))\n",
    "        for iimg,iclus in enumerate(cut):\n",
    "            cluster_dct[iclus].append(ids[iimg])\n",
    "\n",
    "        clusters = list(cluster_dct.values())\n",
    "        observed = dict()\n",
    "        for i in range(len(clusters)):\n",
    "            for item in clusters[i]:\n",
    "                observed[item] = i\n",
    "\n",
    "        obs_labels = []\n",
    "        for item in ids:\n",
    "            obs_labels.append(observed[item])\n",
    "\n",
    "        if len(np.unique(obs_labels)) > 1:\n",
    "            ss.append(silhouette_score(noncond_dist, obs_labels, metric='euclidean'))\n",
    "            vms.append(v_measure_score(groups, obs_labels))\n",
    "            n_clust.append(len(clusters))\n",
    "        else:\n",
    "            ss.append(-1)\n",
    "            vms.append(-1)\n",
    "            n_clust.append(1)\n",
    "    \n",
    "    corr_score_df = pd.DataFrame({'ss': ss, 'vms': vms, 'n_clust': n_clust})\n",
    "\n",
    "    best_ss_df = corr_score_df.loc[corr_score_df['ss'] == max(corr_score_df['ss'])]\n",
    "    best_vms_df = corr_score_df.loc[corr_score_df['vms'] == max(corr_score_df['vms'])]        \n",
    "    return ss, vms, best_ss_df, best_vms_df, n_clust, corr_score_df\n",
    "\n",
    "def print_avg_order(Z, k, ids, path, string, R):\n",
    "    cut = hierarchy.fcluster(Z, 2, criterion='maxclust')\n",
    "    cluster_dct = dict((ii,[]) for ii in np.unique(cut))\n",
    "    for iimg,iclus in enumerate(cut):\n",
    "        cluster_dct[iclus].append(ids[iimg])\n",
    "\n",
    "    clusters = list(cluster_dct.values())\n",
    "    '''try:\n",
    "        image_list = [path + 'plots/' + x for x in R['ivl']]\n",
    "    except:\n",
    "        new_R = [str(x[0]) for x in R['ivl']]\n",
    "        image_list = [path + 'plots/' + x for x in new_R]'''\n",
    "    i = 0\n",
    "    for cluster in clusters:\n",
    "        image_list = [path + 'plots/' + x for x in cluster]\n",
    "        i += 1\n",
    "        avg_image(image_list, 'avg_img_' + str(k) + '_' + str(i))\n",
    "\n",
    "    corr_order(path, R, string)\n",
    "    \n",
    "print 'Done'"
   ]
  },
  {
   "cell_type": "code",
   "execution_count": 6,
   "metadata": {
    "collapsed": false
   },
   "outputs": [
    {
     "name": "stdout",
     "output_type": "stream",
     "text": [
      "67\n",
      "72\n",
      "76\n",
      "Done\n"
     ]
    }
   ],
   "source": [
    "# generating data from WHO\n",
    "df = pd.read_csv(\"/Users/KevinBu/Desktop/clemente_lab/CUtIe/data_analysis/\" + \n",
    "                 \"cutie_hdac_kpc1fdr0.05/data_processing/R_matrix_L6_resample_1.txt\", sep = \"\\t\")\n",
    "df = df.loc[df['var1_index'] > df['var2_index']]\n",
    "\n",
    "WHO_small_df = df[(df['correlations'] > 0.145) & (df['correlations'] < 0.155)]\n",
    "WHO_medium_df = df[(df['correlations'] > 0.2) & (df['correlations'] < 0.22)] # for spearman\n",
    "# WHO_medium_df = df[(df['correlations'] > 0.499) & (df['correlations'] < 0.501)] # for pearson\n",
    "WHO_large_df = df[(df['correlations'] > 0.45) & (df['correlations'] < 1)]\n",
    "\n",
    "print len(WHO_small_df)\n",
    "print len(WHO_medium_df)\n",
    "print len(WHO_large_df)\n",
    "df_list = [WHO_small_df, WHO_medium_df, WHO_large_df]\n",
    "dir_list = ['data/hdac_kpc_plots/small/plots/', 'data/hdac_kpc_plots/medium/plots/', 'data/hdac_kpc_plots/large/plots/']\n",
    "data = pd.read_csv('/Users/KevinBu/Desktop/clemente_lab/CUTIE/data/HDAC/GSE15222_series_matrix_x100.txt', \n",
    "                   sep = '\\t', skiprows=62)\n",
    "data = data.T\n",
    "data.columns = data.iloc[0,:]\n",
    "data = data.drop('ID_REF')\n",
    "xnames = data.columns.values\n",
    "\n",
    "plotting_data = pd.read_csv('/Users/KevinBu/Desktop/clemente_lab/CUTIE/data/HDAC/GSE15222_series_matrix_x100.txt', \n",
    "                   sep = '\\t', skiprows=62)\n",
    "plotting_data = plotting_data.T\n",
    "plotting_data.columns = plotting_data.iloc[0,:]\n",
    "plotting_data = plotting_data.drop('ID_REF')\n",
    "#plotting_data.columns = [str(x) for x in range(len(plotting_data.T.columns))]\n",
    "plotting_xnames = plotting_data.columns.values\n",
    "print 'Done'"
   ]
  },
  {
   "cell_type": "code",
   "execution_count": 7,
   "metadata": {
    "collapsed": false
   },
   "outputs": [],
   "source": [
    "%%capture \n",
    "font = {'size'   : 2}\n",
    "\n",
    "matplotlib.rc('font', **font)\n",
    "try:\n",
    "    os.makedirs('data/hdac_kpc_plots')\n",
    "    os.makedirs('data/hdac_kpc_plots/small/')\n",
    "    os.makedirs('data/hdac_kpc_plots/small/plots/')\n",
    "    os.makedirs('data/hdac_kpc_plots/medium/')\n",
    "    os.makedirs('data/hdac_kpc_plots/medium/plots/')\n",
    "    os.makedirs('data/hdac_kpc_plots/large/')\n",
    "    os.makedirs('data/hdac_kpc_plots/large/plots/')\n",
    "except:\n",
    "    pass\n",
    "# for each type in 'dataset'\n",
    "#  plot them\n",
    "for i in range(len(df_list)):\n",
    "    df = df_list[i]\n",
    "    for index, row in df.iterrows():\n",
    "        var1 = int(row['var1_index'])\n",
    "        var2 = int(row['var2_index'])\n",
    "        current_data = plotting_data[[plotting_xnames[var1], plotting_xnames[var2]]].dropna()\n",
    "                \n",
    "        # create figure\n",
    "        fig = plt.figure()\n",
    "\n",
    "        sns_plot = sns.lmplot(plotting_xnames[var1], plotting_xnames[var2], data = current_data, \n",
    "                              fit_reg = False, palette = \"Set1\")\n",
    "\n",
    "        ax = plt.gca()\n",
    "        axes = sns_plot.axes\n",
    "        # After that you can tweak the axes properties\n",
    "\n",
    "        ax.set_position(np.array([.1,.1,.8,.8]))\n",
    "        plt.tick_params(axis='both', which='both', bottom=False, top=False, left=False, right=False, \n",
    "                        labelbottom=False, labelleft=False)\n",
    "        ax.set_ylabel('')    \n",
    "        ax.set_xlabel('')\n",
    "        ax.set_title('')\n",
    "        # plt.figure(figsize=(3,3))\n",
    "        plt.ticklabel_format(useOffset=False, style='plain', axis='both')\n",
    "        fig.patch.set_visible(False)\n",
    "        ax.patch.set_visible(False)\n",
    "        plt.savefig(dir_list[i] + 'hdac_' + str(var1) + '_' + str(var2) + '_' + \\\n",
    "                    str(round(float(row['correlations']),2)) + '.jpeg')\n",
    "\n",
    "        plt.close()"
   ]
  },
  {
   "cell_type": "code",
   "execution_count": 27,
   "metadata": {
    "collapsed": false
   },
   "outputs": [
    {
     "name": "stdout",
     "output_type": "stream",
     "text": [
      "['hdac_80_53_0.15.jpeg', 'hdac_96_65_0.15.jpeg', 'hdac_94_60_0.15.jpeg', 'hdac_36_3_0.15.jpeg', 'hdac_80_47_0.15.jpeg', 'hdac_52_34_0.15.jpeg', 'hdac_76_57_0.15.jpeg', 'hdac_70_64_0.15.jpeg', 'hdac_99_52_0.15.jpeg', 'hdac_44_23_0.15.jpeg', 'hdac_24_18_0.15.jpeg', 'hdac_86_47_0.15.jpeg', 'hdac_37_18_0.15.jpeg', 'hdac_96_2_0.15.jpeg', 'hdac_60_58_0.15.jpeg', 'hdac_36_35_0.15.jpeg', 'hdac_31_19_0.15.jpeg', 'hdac_98_0_0.15.jpeg', 'hdac_23_19_0.15.jpeg', 'hdac_76_19_0.15.jpeg', 'hdac_42_30_0.15.jpeg', 'hdac_23_9_0.15.jpeg', 'hdac_27_11_0.15.jpeg', 'hdac_93_5_0.15.jpeg', 'hdac_36_12_0.15.jpeg', 'hdac_32_29_0.15.jpeg', 'hdac_98_53_0.15.jpeg', 'hdac_89_9_0.15.jpeg', 'hdac_82_81_0.15.jpeg', 'hdac_94_10_0.15.jpeg', 'hdac_88_0_0.15.jpeg', 'hdac_39_10_0.15.jpeg', 'hdac_72_47_0.15.jpeg', 'hdac_14_7_0.15.jpeg', 'hdac_21_12_0.15.jpeg', 'hdac_98_21_0.15.jpeg', 'hdac_19_8_0.15.jpeg', 'hdac_94_62_0.15.jpeg', 'hdac_90_75_0.15.jpeg', 'hdac_71_22_0.15.jpeg', 'hdac_48_4_0.15.jpeg', 'hdac_63_17_0.15.jpeg', 'hdac_47_5_0.15.jpeg', 'hdac_93_20_0.15.jpeg', 'hdac_37_5_0.15.jpeg', 'hdac_76_41_0.15.jpeg', 'hdac_71_30_0.15.jpeg', 'hdac_58_23_0.15.jpeg', 'hdac_61_7_0.15.jpeg', 'hdac_86_69_0.15.jpeg', 'hdac_19_3_0.15.jpeg', 'hdac_63_59_0.15.jpeg', 'hdac_79_19_0.15.jpeg', 'hdac_64_16_0.15.jpeg', 'hdac_83_53_0.15.jpeg', 'hdac_53_0_0.15.jpeg', 'hdac_62_52_0.15.jpeg', 'hdac_77_67_0.15.jpeg', 'hdac_87_42_0.15.jpeg', 'hdac_27_26_0.15.jpeg', 'hdac_75_48_0.15.jpeg', 'hdac_76_31_0.15.jpeg', 'hdac_60_26_0.15.jpeg', 'hdac_65_37_0.15.jpeg', 'hdac_16_13_0.15.jpeg', 'hdac_84_4_0.15.jpeg', 'hdac_68_24_0.15.jpeg']\n"
     ]
    }
   ],
   "source": [
    "# get ids and corrs of plots\n",
    "# \n",
    "path = 'data/hdac_kpc_plots/small/'\n",
    "# files = [os.path.basename(x) for x in glob.glob(path + '/*')]\n",
    "files = glob.glob(path+'plots/*.jpeg')\n",
    "\n",
    "pcs = []\n",
    "ids = []\n",
    "\n",
    "for f in files:\n",
    "    ids.append(os.path.basename(f))\n",
    "    pcs.append(float(os.path.basename(f).split('_')[-1].split('.jpeg')[0]))\n",
    "\n",
    "print ids\n"
   ]
  },
  {
   "cell_type": "code",
   "execution_count": 28,
   "metadata": {
    "collapsed": false
   },
   "outputs": [
    {
     "name": "stdout",
     "output_type": "stream",
     "text": [
      "best ss n_clust: 1 with score -1\n"
     ]
    },
    {
     "name": "stderr",
     "output_type": "stream",
     "text": [
      "//anaconda/lib/python2.7/site-packages/matplotlib/axes/_base.py:2809: UserWarning: Attempting to set identical bottom==top results\n",
      "in singular transformations; automatically expanding.\n",
      "bottom=0, top=0.0\n",
      "  'bottom=%s, top=%s') % (bottom, top))\n"
     ]
    },
    {
     "data": {
      "image/png": "[encoded data removed]",
      "text/plain": [
       "<matplotlib.figure.Figure at 0x1a341caf50>"
      ]
     },
     "metadata": {},
     "output_type": "display_data"
    }
   ],
   "source": [
    "# correlation assessment\n",
    "# create pd dataframe\n",
    "corr_df = pd.DataFrame({'pc': pcs, 'id': ids})\n",
    "\n",
    "# 0 is used as a placeholder to get 2D array as input\n",
    "X = np.transpose(np.stack((corr_df['pc'], np.zeros(len(corr_df['pc'])))))\n",
    "\n",
    "# obtain pairwise distances\n",
    "condensed_dist = distance.pdist(X, metric='euclidean')\n",
    "\n",
    "# Calculate the distance between each sample, input must be condensed matrix\n",
    "Z = linkage(condensed_dist, 'ward')\n",
    "\n",
    "# convert from condensed to 2D for silhouette score\n",
    "noncond_dist = distance.squareform(condensed_dist)\n",
    "\n",
    "# Make the dendrogram\n",
    "fig1, ax1 = plt.subplots()\n",
    "plt.title('Hierarchical Clustering Dendrogram (corr)')\n",
    "plt.xlabel('plot name')\n",
    "plt.ylabel('distance (corr)') # or corr\n",
    "\n",
    "R = dendrogram(Z, labels = ids, leaf_rotation=90)\n",
    "max_clust = 20\n",
    "\n",
    "ss, vms, best_ss_df, best_vms_df, n_clust, corr_score_df = score_clusters(max_clust, Z, \n",
    "                                                                          ids, ids,\n",
    "                                                                         noncond_dist)\n",
    "\n",
    "print 'best ss n_clust: ' + str(best_ss_df['n_clust'].values[0]) + ' with score ' +  str(best_ss_df['ss'].values[0])\n",
    "k = best_ss_df['n_clust'].values[0] # toggle for ss too\n",
    "print_avg_order(Z, k, ids, path, 'corr_order', R)\n",
    "    "
   ]
  },
  {
   "cell_type": "code",
   "execution_count": 31,
   "metadata": {
    "collapsed": false
   },
   "outputs": [
    {
     "name": "stdout",
     "output_type": "stream",
     "text": [
      "best ss n_clust: 2 with score 0.2748477730706547\n",
      "[0.2748477730706547, 0.23178343234997853, 0.11243287506203399, 0.1234662409858276, 0.12155122103296506, 0.10350109420751785, 0.09864712635063842, 0.0904211709347534, 0.08707568901228778, 0.06843395354204408, 0.049102137200171286, 0.05287413914150712, 0.062379923367337685, 0.0530226872066606, 0.06459348993902227, 0.057641256743468774, 0.05409350067947141, 0.05766720869541204]\n"
     ]
    },
    {
     "data": {
      "image/png": "[encoded data removed]",
      "text/plain": [
       "<matplotlib.figure.Figure at 0x1a3dc34390>"
      ]
     },
     "metadata": {},
     "output_type": "display_data"
    },
    {
     "data": {
      "image/png": "[encoded data removed]",
      "text/plain": [
       "<matplotlib.figure.Figure at 0x1a2fd11490>"
      ]
     },
     "metadata": {},
     "output_type": "display_data"
    }
   ],
   "source": [
    "# now you run imagecluster\n",
    "\n",
    "# source activate yourenv\n",
    "# export PYTHONPATH=$PYTHONPATH:/Users/KevinBu/tools/sandbox/lib/python3.5/site-packages/\n",
    "# cd /Users/KevinBu/Desktop/Clemente\\ Lab/Software/imagecluster\n",
    "# Python3 setup.py install  --prefix=/Users/KevinBu/tools/sandbox/\n",
    "# cd /Users/KevinBu/Desktop/Clemente\\ Lab/iclust/data\n",
    "# python3\n",
    "# from imagecluster import main\n",
    "# main.main('hdac_kpc_plots/small/plots/', 'hdac_kpc_plots/small/', sim=2)\n",
    "# sim here doesn't matter, we are only interested in the distance feature matrix\n",
    "\n",
    "# sim is inappropriately named as it is really k now\n",
    "# once you know how many clusters you want, you add this to get the clusters\n",
    "# k = 2\n",
    "# main.main(data/hdac_kpc_plots/small/plots/, 'data/hdac_kpc_plots/small/', sim=k)\n",
    "\n",
    "\n",
    "path = 'data/hdac_kpc_plots/small/'\n",
    "\n",
    "dfps_df = pd.read_csv(path + 'dfps.txt', sep = '\\t', header = None).drop(0) # first row is junk\n",
    "\n",
    "cond = dfps_df.iloc[:,1:].values.flatten()\n",
    "sq = distance.squareform(cond)\n",
    "noncond_dist = distance.squareform(cond)\n",
    "\n",
    "# get assigned labels\n",
    "cluster_df = pd.read_csv(path + 'cluster_array.txt', sep = '\\t', header = None)\n",
    "# cluster_df['group'] = [x.split('/')[2].split('_')[0] for x in cluster_df.iloc[:,0].values]\n",
    "# assigned_labels = cluster_df['group']\n",
    "\n",
    "# get linkage matrix\n",
    "df = pd.read_csv(path + 'Z.txt', sep = '\\t')\n",
    "Z = df.values[:,1:]\n",
    "\n",
    "# get name ordering as processed by software\n",
    "names = pd.read_csv(path + 'names.txt', sep = '\\t')\n",
    "names = [os.path.basename(str(x[0])) for x in list(names.values[:,1:])]\n",
    "# true_labels = [x.split('_')[0] for x in names]\n",
    "\n",
    "fig, ax = plt.subplots()\n",
    "plt.figure(figsize=(20,10)) \n",
    "plt.title('Hierarchical Clustering Dendrogram (imageclust)')\n",
    "plt.xlabel('plot name')\n",
    "plt.ylabel('distance (imageclust)') # or corr\n",
    "R = dendrogram(Z, labels = names, leaf_rotation = 90)\n",
    "# R['ivl'] = [list(x) for x in R['ivl']]\n",
    "max_clust = 20\n",
    "\n",
    "ss, vms, best_ss_df, best_vms_df, n_clust, corr_score_df = score_clusters(max_clust, Z, ids, ids, noncond_dist)\n",
    "                                                                          #groups[str(sigma)], ids[str(sigma)])\n",
    "# print 'sigma = ' + str(sigma)\n",
    "print 'best ss n_clust: ' + str(best_ss_df['n_clust'].values[0]) + ' with score ' +  str(best_ss_df['ss'].values[0])\n",
    "# print 'best vms n_clust: ' + str(best_vms_df['n_clust'].values[0]) + ' with score ' +  str(best_vms_df['vms'].values[0])\n",
    "k = best_vms_df['n_clust'].values[0] # toggle here\n",
    "print_avg_order(Z, k, ids, path, 'imgclust_order', R)\n",
    "print ss\n"
   ]
  },
  {
   "cell_type": "code",
   "execution_count": null,
   "metadata": {
    "collapsed": true
   },
   "outputs": [],
   "source": []
  }
 ],
 "metadata": {
  "kernelspec": {
   "display_name": "Python 2",
   "language": "python",
   "name": "python2"
  },
  "language_info": {
   "codemirror_mode": {
    "name": "ipython",
    "version": 2
   },
   "file_extension": ".py",
   "mimetype": "text/x-python",
   "name": "python",
   "nbconvert_exporter": "python",
   "pygments_lexer": "ipython2",
   "version": "2.7.6"
  }
 },
 "nbformat": 4,
 "nbformat_minor": 0
}
