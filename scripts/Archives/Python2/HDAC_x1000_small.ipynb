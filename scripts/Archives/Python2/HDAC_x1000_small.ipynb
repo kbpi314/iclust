{
 "cells": [
  {
   "cell_type": "code",
   "execution_count": 3,
   "metadata": {
    "collapsed": false
   },
   "outputs": [],
   "source": [
    "import numpy as np\n",
    "import pandas as pd\n",
    "import seaborn as sns\n",
    "import scipy\n",
    "import sys\n",
    "import os\n",
    "import minepy\n",
    "import glob\n",
    "\n",
    "import matplotlib\n",
    "import matplotlib.pyplot as plt\n",
    "import scipy.stats\n",
    "\n",
    "from PIL import Image\n",
    "from collections import defaultdict\n",
    "from decimal import Decimal\n",
    "from scipy.cluster import hierarchy\n",
    "from scipy.spatial import distance\n",
    "from scipy.cluster.hierarchy import dendrogram, set_link_color_palette, linkage\n",
    "from matplotlib.colors import rgb2hex, colorConverter\n",
    "from sklearn.metrics import v_measure_score, silhouette_score\n",
    "%matplotlib inline\n",
    "sns.set_style(\"white\")\n",
    "os.chdir(\"/Users/KevinBu/Desktop/clemente_lab/iclust/\")"
   ]
  },
  {
   "cell_type": "code",
   "execution_count": 4,
   "metadata": {
    "collapsed": false
   },
   "outputs": [
    {
     "name": "stdout",
     "output_type": "stream",
     "text": [
      "Done\n"
     ]
    }
   ],
   "source": [
    "def avg_image(imlist, string):\n",
    "    w,h=Image.open(imlist[0]).size\n",
    "    N=len(imlist)\n",
    "\n",
    "    # Create a numpy array of floats to store the average (assume RGB images)\n",
    "    arr=np.zeros((h,w,3),np.float)\n",
    "\n",
    "    # Build up average pixel intensities, casting each image as an array of floats\n",
    "    for im in imlist:\n",
    "        imarr=np.array(Image.open(im),dtype=np.float)\n",
    "        arr=arr+imarr/N\n",
    "\n",
    "    # Round values in array and cast as 8-bit integer\n",
    "    arr=np.array(np.round(arr),dtype=np.uint8)\n",
    "\n",
    "    # Generate, save and preview final image\n",
    "    out=Image.fromarray(arr,mode=\"RGB\")\n",
    "    out.save(path + string + '.jpg')\n",
    "\n",
    "def corr_order(path, R, string):\n",
    "    try:\n",
    "        image_list = [path + 'plots/' + x for x in R['ivl']]\n",
    "    except:\n",
    "        new_R = [str(x[0]) for x in R['ivl']]\n",
    "        image_list = [path + 'plots/' + x for x in new_R]\n",
    "        \n",
    "    images = map(Image.open, image_list)\n",
    "    widths, heights = zip(*(i.size for i in images))\n",
    "\n",
    "    total_width = sum(widths)\n",
    "    max_height = max(heights)\n",
    "\n",
    "    new_im = Image.new('RGB', (total_width, max_height))\n",
    "\n",
    "    x_offset = 0\n",
    "    for im in images:\n",
    "        new_im.paste(im, (x_offset,0))\n",
    "        x_offset += im.size[0]\n",
    "\n",
    "    new_im.save(path + string + '.jpg')\n",
    "    \n",
    "def score_clusters(max_clust, Z, groups, ids, noncond_dist):\n",
    "    # groups is the truth, labels is the predicted\n",
    "    # Z is linkage matrix \n",
    "    # ids is the names of the files corresponding to the order in which Z was created\n",
    "    ss = []\n",
    "    vms = []\n",
    "    n_clust = []\n",
    "    \n",
    "    for k in range(2, max_clust):\n",
    "        cut = hierarchy.fcluster(Z, k, criterion='maxclust')\n",
    "        cluster_dct = dict((ii,[]) for ii in np.unique(cut))\n",
    "        for iimg,iclus in enumerate(cut):\n",
    "            cluster_dct[iclus].append(ids[iimg])\n",
    "\n",
    "        clusters = list(cluster_dct.values())\n",
    "        observed = dict()\n",
    "        for i in range(len(clusters)):\n",
    "            for item in clusters[i]:\n",
    "                observed[item] = i\n",
    "\n",
    "        obs_labels = []\n",
    "        for item in ids:\n",
    "            obs_labels.append(observed[item])\n",
    "\n",
    "        if len(np.unique(obs_labels)) > 1:\n",
    "            ss.append(silhouette_score(noncond_dist, obs_labels, metric='euclidean'))\n",
    "            vms.append(v_measure_score(groups, obs_labels))\n",
    "            n_clust.append(len(clusters))\n",
    "        else:\n",
    "            ss.append(-1)\n",
    "            vms.append(-1)\n",
    "            n_clust.append(1)\n",
    "    \n",
    "    corr_score_df = pd.DataFrame({'ss': ss, 'vms': vms, 'n_clust': n_clust})\n",
    "\n",
    "    best_ss_df = corr_score_df.loc[corr_score_df['ss'] == max(corr_score_df['ss'])]\n",
    "    best_vms_df = corr_score_df.loc[corr_score_df['vms'] == max(corr_score_df['vms'])]        \n",
    "    return ss, vms, best_ss_df, best_vms_df, n_clust, corr_score_df\n",
    "\n",
    "def print_avg_order(Z, k, ids, path, string, R):\n",
    "    cut = hierarchy.fcluster(Z, 2, criterion='maxclust')\n",
    "    cluster_dct = dict((ii,[]) for ii in np.unique(cut))\n",
    "    for iimg,iclus in enumerate(cut):\n",
    "        cluster_dct[iclus].append(ids[iimg])\n",
    "\n",
    "    clusters = list(cluster_dct.values())\n",
    "    '''try:\n",
    "        image_list = [path + 'plots/' + x for x in R['ivl']]\n",
    "    except:\n",
    "        new_R = [str(x[0]) for x in R['ivl']]\n",
    "        image_list = [path + 'plots/' + x for x in new_R]'''\n",
    "    i = 0\n",
    "    for cluster in clusters:\n",
    "        image_list = [path + 'plots/' + x for x in cluster]\n",
    "        i += 1\n",
    "        avg_image(image_list, 'avg_img_' + str(k) + '_' + str(i))\n",
    "\n",
    "    corr_order(path, R, string)\n",
    "    \n",
    "print 'Done'"
   ]
  },
  {
   "cell_type": "code",
   "execution_count": 18,
   "metadata": {
    "collapsed": false
   },
   "outputs": [
    {
     "name": "stdout",
     "output_type": "stream",
     "text": [
      "80\n",
      "79\n",
      "60\n",
      "Done\n"
     ]
    }
   ],
   "source": [
    "# generating data from WHO\n",
    "df = pd.read_csv(\"/Users/KevinBu/Desktop/clemente_lab/CUtIe/data_analysis/\" + \n",
    "                 \"cutie_hdac_x1000_kpc1fdr0.05/data_processing/R_matrix_L6_resample_1.txt\", sep = \"\\t\")\n",
    "df = df.loc[df['var1_index'] > df['var2_index']]\n",
    "\n",
    "WHO_small_df = df[(df['correlations'] > 0.14995) & (df['correlations'] < 0.15005)]\n",
    "WHO_medium_df = df[(df['correlations'] > 0.3997) & (df['correlations'] < 0.4003)] # for spearman\n",
    "# WHO_medium_df = df[(df['correlations'] > 0.499) & (df['correlations'] < 0.501)] # for pearson\n",
    "WHO_large_df = df[(df['correlations'] > 0.85) & (df['correlations'] < 0.95)]\n",
    "\n",
    "print len(WHO_small_df)\n",
    "print len(WHO_medium_df)\n",
    "print len(WHO_large_df)\n",
    "df_list = [WHO_small_df, WHO_medium_df, WHO_large_df]\n",
    "dir_list = ['data/hdac_x1000_kpc_plots/small/plots/', 'data/hdac_x1000_kpc_plots/medium/plots/', 'data/hdac_x1000_kpc_plots/large/plots/']\n",
    "data = pd.read_csv('/Users/KevinBu/Desktop/clemente_lab/CUTIE/data/HDAC/GSE15222_series_matrix_x1000.txt', \n",
    "                   sep = '\\t', skiprows=62)\n",
    "data = data.T\n",
    "data.columns = data.iloc[0,:]\n",
    "data = data.drop('ID_REF')\n",
    "xnames = data.columns.values\n",
    "\n",
    "plotting_data = pd.read_csv('/Users/KevinBu/Desktop/clemente_lab/CUTIE/data/HDAC/GSE15222_series_matrix_x1000.txt', \n",
    "                   sep = '\\t', skiprows=62)\n",
    "plotting_data = plotting_data.T\n",
    "plotting_data.columns = plotting_data.iloc[0,:]\n",
    "plotting_data = plotting_data.drop('ID_REF')\n",
    "#plotting_data.columns = [str(x) for x in range(len(plotting_data.T.columns))]\n",
    "plotting_xnames = plotting_data.columns.values\n",
    "print 'Done'"
   ]
  },
  {
   "cell_type": "code",
   "execution_count": 19,
   "metadata": {
    "collapsed": false
   },
   "outputs": [],
   "source": [
    "%%capture \n",
    "font = {'size'   : 2}\n",
    "\n",
    "matplotlib.rc('font', **font)\n",
    "try:\n",
    "    os.makedirs('data/hdac_x1000_kpc_plots')\n",
    "    os.makedirs('data/hdac_x1000_kpc_plots/small/')\n",
    "    os.makedirs('data/hdac_x1000_kpc_plots/small/plots/')\n",
    "    os.makedirs('data/hdac_x1000_kpc_plots/medium/')\n",
    "    os.makedirs('data/hdac_x1000_kpc_plots/medium/plots/')\n",
    "    os.makedirs('data/hdac_x1000_kpc_plots/large/')\n",
    "    os.makedirs('data/hdac_x1000_kpc_plots/large/plots/')\n",
    "except:\n",
    "    pass\n",
    "# for each type in 'dataset'\n",
    "#  plot them\n",
    "for i in range(len(df_list)):\n",
    "    df = df_list[i]\n",
    "    for index, row in df.iterrows():\n",
    "        var1 = int(row['var1_index'])\n",
    "        var2 = int(row['var2_index'])\n",
    "        current_data = plotting_data[[plotting_xnames[var1], plotting_xnames[var2]]].dropna()\n",
    "                \n",
    "        # create figure\n",
    "        fig = plt.figure()\n",
    "\n",
    "        sns_plot = sns.lmplot(plotting_xnames[var1], plotting_xnames[var2], data = current_data, \n",
    "                              fit_reg = False, palette = \"Set1\")\n",
    "\n",
    "        ax = plt.gca()\n",
    "        axes = sns_plot.axes\n",
    "        # After that you can tweak the axes properties\n",
    "\n",
    "        ax.set_position(np.array([.1,.1,.8,.8]))\n",
    "        plt.tick_params(axis='both', which='both', bottom=False, top=False, left=False, right=False, \n",
    "                        labelbottom=False, labelleft=False)\n",
    "        ax.set_ylabel('')    \n",
    "        ax.set_xlabel('')\n",
    "        ax.set_title('')\n",
    "        # plt.figure(figsize=(3,3))\n",
    "        plt.ticklabel_format(useOffset=False, style='plain', axis='both')\n",
    "        fig.patch.set_visible(False)\n",
    "        ax.patch.set_visible(False)\n",
    "        plt.savefig(dir_list[i] + 'hdac_' + str(var1) + '_' + str(var2) + '_' + \\\n",
    "                    str(round(float(row['correlations']),2)) + '.jpeg')\n",
    "\n",
    "        plt.close()"
   ]
  },
  {
   "cell_type": "code",
   "execution_count": 22,
   "metadata": {
    "collapsed": false
   },
   "outputs": [
    {
     "name": "stdout",
     "output_type": "stream",
     "text": [
      "['hdac_396_330_0.15.jpeg', 'hdac_421_382_0.15.jpeg', 'hdac_908_703_0.15.jpeg', 'hdac_635_556_0.15.jpeg', 'hdac_863_79_0.15.jpeg', 'hdac_672_153_0.15.jpeg', 'hdac_976_570_0.15.jpeg', 'hdac_873_367_0.15.jpeg', 'hdac_407_89_0.15.jpeg', 'hdac_413_306_0.15.jpeg', 'hdac_633_56_0.15.jpeg', 'hdac_925_125_0.15.jpeg', 'hdac_339_155_0.15.jpeg', 'hdac_995_627_0.15.jpeg', 'hdac_901_526_0.15.jpeg', 'hdac_583_473_0.15.jpeg', 'hdac_606_158_0.15.jpeg', 'hdac_540_417_0.15.jpeg', 'hdac_901_403_0.15.jpeg', 'hdac_467_81_0.15.jpeg', 'hdac_451_378_0.15.jpeg', 'hdac_314_59_0.15.jpeg', 'hdac_799_412_0.15.jpeg', 'hdac_600_516_0.15.jpeg', 'hdac_767_659_0.15.jpeg', 'hdac_895_891_0.15.jpeg', 'hdac_718_266_0.15.jpeg', 'hdac_829_199_0.15.jpeg', 'hdac_890_850_0.15.jpeg', 'hdac_956_185_0.15.jpeg', 'hdac_856_87_0.15.jpeg', 'hdac_610_15_0.15.jpeg', 'hdac_686_128_0.15.jpeg', 'hdac_812_185_0.15.jpeg', 'hdac_263_60_0.15.jpeg', 'hdac_442_226_0.15.jpeg', 'hdac_619_329_0.15.jpeg', 'hdac_259_84_0.15.jpeg', 'hdac_689_153_0.15.jpeg', 'hdac_490_93_0.15.jpeg', 'hdac_241_35_0.15.jpeg', 'hdac_516_53_0.15.jpeg', 'hdac_419_385_0.15.jpeg', 'hdac_897_699_0.15.jpeg', 'hdac_603_253_0.15.jpeg', 'hdac_460_60_0.15.jpeg', 'hdac_315_301_0.15.jpeg', 'hdac_759_677_0.15.jpeg', 'hdac_846_375_0.15.jpeg', 'hdac_804_539_0.15.jpeg', 'hdac_816_400_0.15.jpeg', 'hdac_402_47_0.15.jpeg', 'hdac_927_752_0.15.jpeg', 'hdac_657_191_0.15.jpeg', 'hdac_820_25_0.15.jpeg', 'hdac_909_429_0.15.jpeg', 'hdac_960_313_0.15.jpeg', 'hdac_395_125_0.15.jpeg', 'hdac_758_92_0.15.jpeg', 'hdac_646_298_0.15.jpeg', 'hdac_927_858_0.15.jpeg', 'hdac_444_310_0.15.jpeg', 'hdac_710_618_0.15.jpeg', 'hdac_103_30_0.15.jpeg', 'hdac_406_289_0.15.jpeg', 'hdac_312_87_0.15.jpeg', 'hdac_698_164_0.15.jpeg', 'hdac_601_465_0.15.jpeg', 'hdac_545_344_0.15.jpeg', 'hdac_278_185_0.15.jpeg', 'hdac_503_346_0.15.jpeg', 'hdac_941_911_0.15.jpeg', 'hdac_310_218_0.15.jpeg', 'hdac_994_841_0.15.jpeg', 'hdac_410_388_0.15.jpeg', 'hdac_829_224_0.15.jpeg', 'hdac_238_196_0.15.jpeg', 'hdac_629_570_0.15.jpeg', 'hdac_707_431_0.15.jpeg', 'hdac_68_24_0.15.jpeg']\n"
     ]
    }
   ],
   "source": [
    "# get ids and corrs of plots\n",
    "# \n",
    "path = 'data/hdac_x1000_kpc_plots/small/'\n",
    "# files = [os.path.basename(x) for x in glob.glob(path + '/*')]\n",
    "files = glob.glob(path+'plots/*.jpeg')\n",
    "\n",
    "pcs = []\n",
    "ids = []\n",
    "\n",
    "for f in files:\n",
    "    ids.append(os.path.basename(f))\n",
    "    pcs.append(float(os.path.basename(f).split('_')[-1].split('.jpeg')[0]))\n",
    "\n",
    "print ids\n"
   ]
  },
  {
   "cell_type": "code",
   "execution_count": 23,
   "metadata": {
    "collapsed": false
   },
   "outputs": [
    {
     "name": "stdout",
     "output_type": "stream",
     "text": [
      "best ss n_clust: 1 with score -1\n"
     ]
    },
    {
     "name": "stderr",
     "output_type": "stream",
     "text": [
      "//anaconda/lib/python2.7/site-packages/matplotlib/axes/_base.py:2809: UserWarning: Attempting to set identical bottom==top results\n",
      "in singular transformations; automatically expanding.\n",
      "bottom=0, top=0.0\n",
      "  'bottom=%s, top=%s') % (bottom, top))\n"
     ]
    },
    {
     "data": {
      "image/png": "[encoded data removed]",
      "text/plain": [
       "<matplotlib.figure.Figure at 0x100746050>"
      ]
     },
     "metadata": {},
     "output_type": "display_data"
    }
   ],
   "source": [
    "# correlation assessment\n",
    "# create pd dataframe\n",
    "corr_df = pd.DataFrame({'pc': pcs, 'id': ids})\n",
    "\n",
    "# 0 is used as a placeholder to get 2D array as input\n",
    "X = np.transpose(np.stack((corr_df['pc'], np.zeros(len(corr_df['pc'])))))\n",
    "\n",
    "# obtain pairwise distances\n",
    "condensed_dist = distance.pdist(X, metric='euclidean')\n",
    "\n",
    "# Calculate the distance between each sample, input must be condensed matrix\n",
    "Z = linkage(condensed_dist, 'ward')\n",
    "\n",
    "# convert from condensed to 2D for silhouette score\n",
    "noncond_dist = distance.squareform(condensed_dist)\n",
    "\n",
    "# Make the dendrogram\n",
    "fig1, ax1 = plt.subplots()\n",
    "plt.title('Hierarchical Clustering Dendrogram (corr)')\n",
    "plt.xlabel('plot name')\n",
    "plt.ylabel('distance (corr)') # or corr\n",
    "\n",
    "R = dendrogram(Z, labels = ids, leaf_rotation=90)\n",
    "max_clust = 20\n",
    "\n",
    "ss, vms, best_ss_df, best_vms_df, n_clust, corr_score_df = score_clusters(max_clust, Z, \n",
    "                                                                          ids, ids,\n",
    "                                                                         noncond_dist)\n",
    "\n",
    "print 'best ss n_clust: ' + str(best_ss_df['n_clust'].values[0]) + ' with score ' +  str(best_ss_df['ss'].values[0])\n",
    "k = best_ss_df['n_clust'].values[0] # toggle for ss too\n",
    "print_avg_order(Z, k, ids, path, 'corr_order', R)\n",
    "    "
   ]
  },
  {
   "cell_type": "code",
   "execution_count": 25,
   "metadata": {
    "collapsed": false
   },
   "outputs": [
    {
     "name": "stdout",
     "output_type": "stream",
     "text": [
      "best ss n_clust: 2 with score 0.33392791362806384\n",
      "[0.33392791362806384, 0.297059517867421, 0.252384781423555, 0.17212846017809397, 0.15989405104345086, 0.09007762856245215, 0.07454227392592308, 0.08008727581027099, 0.08201556826584878, 0.046348414339046046, 0.028428386969986792, 0.09745553643105087, 0.09913541595121142, 0.09498854519913977, 0.09556580132172016, 0.09577918455114283, 0.09136137263834143, 0.08642514491672974]\n"
     ]
    },
    {
     "data": {
      "image/png": "[encoded data removed]",
      "text/plain": [
       "<matplotlib.figure.Figure at 0x1a3d7542d0>"
      ]
     },
     "metadata": {},
     "output_type": "display_data"
    },
    {
     "data": {
      "image/png": "[encoded data removed]",
      "text/plain": [
       "<matplotlib.figure.Figure at 0x1a234ef190>"
      ]
     },
     "metadata": {},
     "output_type": "display_data"
    }
   ],
   "source": [
    "# now you run imagecluster\n",
    "\n",
    "# source activate yourenv\n",
    "# export PYTHONPATH=$PYTHONPATH:/Users/KevinBu/tools/sandbox/lib/python3.5/site-packages/\n",
    "# cd /Users/KevinBu/Desktop/Clemente\\ Lab/Software/imagecluster\n",
    "# Python3 setup.py install  --prefix=/Users/KevinBu/tools/sandbox/\n",
    "# cd /Users/KevinBu/Desktop/Clemente\\ Lab/iclust/data\n",
    "# python3\n",
    "# from imagecluster import main\n",
    "# main.main('hdac_x1000_kpc_plots/small/plots/', 'hdac_x1000_kpc_plots/small/', sim=2)\n",
    "# sim here doesn't matter, we are only interested in the distance feature matrix\n",
    "\n",
    "# sim is inappropriately named as it is really k now\n",
    "# once you know how many clusters you want, you add this to get the clusters\n",
    "# k = 2\n",
    "# main.main(data/hdac_kpc_plots/small/plots/, 'data/hdac_kpc_plots/small/', sim=k)\n",
    "\n",
    "\n",
    "path = 'data/hdac_x1000_kpc_plots/small/'\n",
    "\n",
    "dfps_df = pd.read_csv(path + 'dfps.txt', sep = '\\t', header = None).drop(0) # first row is junk\n",
    "\n",
    "cond = dfps_df.iloc[:,1:].values.flatten()\n",
    "sq = distance.squareform(cond)\n",
    "noncond_dist = distance.squareform(cond)\n",
    "\n",
    "# get assigned labels\n",
    "cluster_df = pd.read_csv(path + 'cluster_array.txt', sep = '\\t', header = None)\n",
    "# cluster_df['group'] = [x.split('/')[2].split('_')[0] for x in cluster_df.iloc[:,0].values]\n",
    "# assigned_labels = cluster_df['group']\n",
    "\n",
    "# get linkage matrix\n",
    "df = pd.read_csv(path + 'Z.txt', sep = '\\t')\n",
    "Z = df.values[:,1:]\n",
    "\n",
    "# get name ordering as processed by software\n",
    "names = pd.read_csv(path + 'names.txt', sep = '\\t')\n",
    "names = [os.path.basename(str(x[0])) for x in list(names.values[:,1:])]\n",
    "# true_labels = [x.split('_')[0] for x in names]\n",
    "\n",
    "fig, ax = plt.subplots()\n",
    "plt.figure(figsize=(20,10)) \n",
    "plt.title('Hierarchical Clustering Dendrogram (imageclust)')\n",
    "plt.xlabel('plot name')\n",
    "plt.ylabel('distance (imageclust)') # or corr\n",
    "R = dendrogram(Z, labels = names, leaf_rotation = 90)\n",
    "# R['ivl'] = [list(x) for x in R['ivl']]\n",
    "max_clust = 20\n",
    "\n",
    "ss, vms, best_ss_df, best_vms_df, n_clust, corr_score_df = score_clusters(max_clust, Z, ids, ids, noncond_dist)\n",
    "                                                                          #groups[str(sigma)], ids[str(sigma)])\n",
    "# print 'sigma = ' + str(sigma)\n",
    "print 'best ss n_clust: ' + str(best_ss_df['n_clust'].values[0]) + ' with score ' +  str(best_ss_df['ss'].values[0])\n",
    "# print 'best vms n_clust: ' + str(best_vms_df['n_clust'].values[0]) + ' with score ' +  str(best_vms_df['vms'].values[0])\n",
    "k = best_vms_df['n_clust'].values[0] # toggle here\n",
    "print_avg_order(Z, k, ids, path, 'imgclust_order', R)\n",
    "print ss\n"
   ]
  },
  {
   "cell_type": "code",
   "execution_count": null,
   "metadata": {
    "collapsed": true
   },
   "outputs": [],
   "source": []
  }
 ],
 "metadata": {
  "kernelspec": {
   "display_name": "Python 2",
   "language": "python",
   "name": "python2"
  },
  "language_info": {
   "codemirror_mode": {
    "name": "ipython",
    "version": 2
   },
   "file_extension": ".py",
   "mimetype": "text/x-python",
   "name": "python",
   "nbconvert_exporter": "python",
   "pygments_lexer": "ipython2",
   "version": "2.7.6"
  }
 },
 "nbformat": 4,
 "nbformat_minor": 0
}
